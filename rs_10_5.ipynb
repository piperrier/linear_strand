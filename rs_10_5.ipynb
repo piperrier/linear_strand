{
 "cells": [
  {
   "cell_type": "markdown",
   "metadata": {},
   "source": [
    "# RS 10 5"
   ]
  },
  {
   "cell_type": "code",
   "execution_count": null,
   "metadata": {},
   "outputs": [],
   "source": [
    "from utils import *\n",
    "from macaulay_matrix import *\n",
    "from order import *\n",
    "from code_ideal import *\n",
    "from expanded_matrix import *"
   ]
  },
  {
   "cell_type": "code",
   "execution_count": null,
   "metadata": {},
   "outputs": [],
   "source": [
    "k = GF(11) \n",
    "nu = 5\n",
    "\n",
    "R = PolynomialRing(k, nu, 'x', order =\"lex\");\n",
    "x = R.gens()\n",
    "print(x)\n",
    "\n",
    "A = Matrix (R, [\n",
    "[x[2],x[3],x[4],0,0,0,0,0],\n",
    "[0,0,0,x[1],x[3],x[4],0,0],\n",
    "[x[1]+9*x[2],7*x[1],2*x[1]+10*x[4],5*x[1]+x[2],2*x[2],9*x[2]+6*x[4],0,0],\n",
    "[10*x[0],0,0,10*x[0],0,0,x[3],x[4]],\n",
    "[10*x[0]+6*x[2],3*x[0],9*x[0]+3*x[4],6*x[0]+8*x[2],0,0,x[2],10*x[2] + 3*x[4]],\n",
    "[2*x[0] + 5*x[1], 0, 0,10*x[0] + 3*x[1],8*x[0],2*x[0]+8*x[4],9*x[1],x[1]+5*x[4]]\n",
    "])\n",
    "\n",
    "n = A.ncols()\n",
    "m = A.nrows()\n",
    "print(f\"n={n}, m={m}\")\n",
    "print(A)\n",
    "print(\"\\n\")"
   ]
  },
  {
   "cell_type": "code",
   "execution_count": null,
   "metadata": {},
   "outputs": [],
   "source": [
    "B_generique = construct_B_from_A(A)\n",
    "print(B_generique)"
   ]
  },
  {
   "cell_type": "code",
   "execution_count": null,
   "metadata": {},
   "outputs": [],
   "source": [
    "B = ExpandedMatrix(nu, B_generique)\n",
    "B.ef()\n",
    "B"
   ]
  },
  {
   "cell_type": "code",
   "execution_count": null,
   "metadata": {},
   "outputs": [],
   "source": [
    "B.pre_processing()\n",
    "B.settings()"
   ]
  },
  {
   "cell_type": "markdown",
   "metadata": {},
   "source": [
    "Compute the *syzygetic matrix*"
   ]
  },
  {
   "cell_type": "code",
   "execution_count": null,
   "metadata": {},
   "outputs": [],
   "source": [
    "M = matrix_syzygetic(B.matrix, nu, m, n)\n",
    "print(M)\n",
    "print(\"\")\n",
    "\n",
    "Sol = M.right_kernel()\n",
    "print(Sol)"
   ]
  },
  {
   "cell_type": "code",
   "execution_count": null,
   "metadata": {},
   "outputs": [],
   "source": [
    "new_row_order = koszul_order_block(nu, m, n, B.k)"
   ]
  },
  {
   "cell_type": "code",
   "execution_count": null,
   "metadata": {},
   "outputs": [],
   "source": [
    "M_ro = block_kosz_row_perm(M, nu, new_row_order)\n",
    "print(M_ro)"
   ]
  },
  {
   "cell_type": "code",
   "execution_count": null,
   "metadata": {},
   "outputs": [],
   "source": [
    "new_col_order = col_order(B.r, B.k, B.nu, B.n)"
   ]
  },
  {
   "cell_type": "code",
   "execution_count": null,
   "metadata": {},
   "outputs": [],
   "source": [
    "M_co = kosz_col_perm(M_ro, new_col_order)\n",
    "M_co = t_subdivide(M_co, B.subdiv)\n",
    "\n",
    "print(M_co)"
   ]
  },
  {
   "cell_type": "code",
   "execution_count": null,
   "metadata": {},
   "outputs": [],
   "source": [
    "M_ie = block_ideal_elim(M_co, B.k, B.spacing, B.subdiv)\n",
    "print(M_ie)"
   ]
  },
  {
   "cell_type": "code",
   "execution_count": null,
   "metadata": {},
   "outputs": [],
   "source": [
    "M_bf = block_forward_substitution(M_ie, B.subdiv)\n",
    "print(M_bf)"
   ]
  },
  {
   "cell_type": "code",
   "execution_count": null,
   "metadata": {},
   "outputs": [],
   "source": [
    "T,TT = block_T_TT(M_bf, B.subdiv)"
   ]
  },
  {
   "cell_type": "code",
   "execution_count": null,
   "metadata": {},
   "outputs": [],
   "source": [
    "ker3 = TT.right_kernel()\n",
    "print(ker3)\n",
    "\n",
    "base = matrix([vector(list(-T*elt) + list(elt)) for elt in ker3.basis()])\n",
    "base = kosz_col_perm_inv(base, new_col_order)\n",
    "print(\"\")\n",
    "print(base)\n",
    "\n",
    "print(\"\")\n",
    "print(base.echelon_form())"
   ]
  }
 ],
 "metadata": {
  "kernelspec": {
   "display_name": "SageMath 10.6",
   "language": "sage",
   "name": "sagemath"
  },
  "language_info": {
   "codemirror_mode": {
    "name": "ipython",
    "version": 3
   },
   "file_extension": ".py",
   "mimetype": "text/x-python",
   "name": "sage",
   "nbconvert_exporter": "python",
   "pygments_lexer": "ipython3",
   "version": "3.12.10"
  }
 },
 "nbformat": 4,
 "nbformat_minor": 2
}
